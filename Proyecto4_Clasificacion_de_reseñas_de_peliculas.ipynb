{
 "cells": [
  {
   "cell_type": "markdown",
   "metadata": {},
   "source": [
    "# Descripcipción del proyecto"
   ]
  },
  {
   "cell_type": "markdown",
   "metadata": {},
   "source": [
    "Film Junky Union, una nueva comunidad vanguardista para los aficionados de las películas clásicas, está desarrollando un sistema para filtrar y categorizar reseñas de películas. El objetivo es entrenar un modelo para detectar las críticas negativas de forma automática. Para lograrlo, utilizare un conjunto de datos de reseñas de películas de IMDB con leyendas de polaridad para construir un modelo para clasificar las reseñas positivas y negativas. Mi modelo deberá alcanzar un valor F1 de al menos 0.85."
   ]
  },
  {
   "cell_type": "markdown",
   "metadata": {},
   "source": [
    "## Inicialización"
   ]
  },
  {
   "cell_type": "code",
   "execution_count": 1,
   "metadata": {},
   "outputs": [],
   "source": [
    "import pandas as pd\n",
    "from sklearn.model_selection import train_test_split\n",
    "from sklearn.feature_extraction.text import TfidfVectorizer\n",
    "import re\n",
    "from sklearn.linear_model import LogisticRegression\n",
    "from sklearn.tree import DecisionTreeClassifier\n",
    "from sklearn.ensemble import RandomForestClassifier\n",
    "from sklearn.metrics import classification_report, accuracy_score\n",
    "import matplotlib.pyplot as plt\n",
    "import seaborn as sns\n",
    "from sklearn.preprocessing import StandardScaler\n",
    "import transformers"
   ]
  },
  {
   "cell_type": "markdown",
   "metadata": {},
   "source": [
    "## Cargar datos"
   ]
  },
  {
   "cell_type": "code",
   "execution_count": 2,
   "metadata": {},
   "outputs": [
    {
     "data": {
      "text/html": [
       "<div>\n",
       "<style scoped>\n",
       "    .dataframe tbody tr th:only-of-type {\n",
       "        vertical-align: middle;\n",
       "    }\n",
       "\n",
       "    .dataframe tbody tr th {\n",
       "        vertical-align: top;\n",
       "    }\n",
       "\n",
       "    .dataframe thead th {\n",
       "        text-align: right;\n",
       "    }\n",
       "</style>\n",
       "<table border=\"1\" class=\"dataframe\">\n",
       "  <thead>\n",
       "    <tr style=\"text-align: right;\">\n",
       "      <th></th>\n",
       "      <th>tconst</th>\n",
       "      <th>title_type</th>\n",
       "      <th>primary_title</th>\n",
       "      <th>original_title</th>\n",
       "      <th>start_year</th>\n",
       "      <th>end_year</th>\n",
       "      <th>runtime_minutes</th>\n",
       "      <th>is_adult</th>\n",
       "      <th>genres</th>\n",
       "      <th>average_rating</th>\n",
       "      <th>votes</th>\n",
       "      <th>review</th>\n",
       "      <th>rating</th>\n",
       "      <th>sp</th>\n",
       "      <th>pos</th>\n",
       "      <th>ds_part</th>\n",
       "      <th>idx</th>\n",
       "    </tr>\n",
       "  </thead>\n",
       "  <tbody>\n",
       "    <tr>\n",
       "      <th>0</th>\n",
       "      <td>tt0068152</td>\n",
       "      <td>movie</td>\n",
       "      <td>$</td>\n",
       "      <td>$</td>\n",
       "      <td>1971</td>\n",
       "      <td>\\N</td>\n",
       "      <td>121</td>\n",
       "      <td>0</td>\n",
       "      <td>Comedy,Crime,Drama</td>\n",
       "      <td>6.3</td>\n",
       "      <td>2218.0</td>\n",
       "      <td>The pakage implies that Warren Beatty and Gold...</td>\n",
       "      <td>1</td>\n",
       "      <td>neg</td>\n",
       "      <td>0</td>\n",
       "      <td>train</td>\n",
       "      <td>8335</td>\n",
       "    </tr>\n",
       "    <tr>\n",
       "      <th>1</th>\n",
       "      <td>tt0068152</td>\n",
       "      <td>movie</td>\n",
       "      <td>$</td>\n",
       "      <td>$</td>\n",
       "      <td>1971</td>\n",
       "      <td>\\N</td>\n",
       "      <td>121</td>\n",
       "      <td>0</td>\n",
       "      <td>Comedy,Crime,Drama</td>\n",
       "      <td>6.3</td>\n",
       "      <td>2218.0</td>\n",
       "      <td>How the hell did they get this made?! Presenti...</td>\n",
       "      <td>1</td>\n",
       "      <td>neg</td>\n",
       "      <td>0</td>\n",
       "      <td>train</td>\n",
       "      <td>8336</td>\n",
       "    </tr>\n",
       "    <tr>\n",
       "      <th>2</th>\n",
       "      <td>tt0313150</td>\n",
       "      <td>short</td>\n",
       "      <td>'15'</td>\n",
       "      <td>'15'</td>\n",
       "      <td>2002</td>\n",
       "      <td>\\N</td>\n",
       "      <td>25</td>\n",
       "      <td>0</td>\n",
       "      <td>Comedy,Drama,Short</td>\n",
       "      <td>6.3</td>\n",
       "      <td>184.0</td>\n",
       "      <td>There is no real story the film seems more lik...</td>\n",
       "      <td>3</td>\n",
       "      <td>neg</td>\n",
       "      <td>0</td>\n",
       "      <td>test</td>\n",
       "      <td>2489</td>\n",
       "    </tr>\n",
       "    <tr>\n",
       "      <th>3</th>\n",
       "      <td>tt0313150</td>\n",
       "      <td>short</td>\n",
       "      <td>'15'</td>\n",
       "      <td>'15'</td>\n",
       "      <td>2002</td>\n",
       "      <td>\\N</td>\n",
       "      <td>25</td>\n",
       "      <td>0</td>\n",
       "      <td>Comedy,Drama,Short</td>\n",
       "      <td>6.3</td>\n",
       "      <td>184.0</td>\n",
       "      <td>Um .... a serious film about troubled teens in...</td>\n",
       "      <td>7</td>\n",
       "      <td>pos</td>\n",
       "      <td>1</td>\n",
       "      <td>test</td>\n",
       "      <td>9280</td>\n",
       "    </tr>\n",
       "    <tr>\n",
       "      <th>4</th>\n",
       "      <td>tt0313150</td>\n",
       "      <td>short</td>\n",
       "      <td>'15'</td>\n",
       "      <td>'15'</td>\n",
       "      <td>2002</td>\n",
       "      <td>\\N</td>\n",
       "      <td>25</td>\n",
       "      <td>0</td>\n",
       "      <td>Comedy,Drama,Short</td>\n",
       "      <td>6.3</td>\n",
       "      <td>184.0</td>\n",
       "      <td>I'm totally agree with GarryJohal from Singapo...</td>\n",
       "      <td>9</td>\n",
       "      <td>pos</td>\n",
       "      <td>1</td>\n",
       "      <td>test</td>\n",
       "      <td>9281</td>\n",
       "    </tr>\n",
       "  </tbody>\n",
       "</table>\n",
       "</div>"
      ],
      "text/plain": [
       "      tconst title_type primary_title original_title  start_year end_year  \\\n",
       "0  tt0068152      movie             $              $        1971       \\N   \n",
       "1  tt0068152      movie             $              $        1971       \\N   \n",
       "2  tt0313150      short          '15'           '15'        2002       \\N   \n",
       "3  tt0313150      short          '15'           '15'        2002       \\N   \n",
       "4  tt0313150      short          '15'           '15'        2002       \\N   \n",
       "\n",
       "  runtime_minutes  is_adult              genres  average_rating   votes  \\\n",
       "0             121         0  Comedy,Crime,Drama             6.3  2218.0   \n",
       "1             121         0  Comedy,Crime,Drama             6.3  2218.0   \n",
       "2              25         0  Comedy,Drama,Short             6.3   184.0   \n",
       "3              25         0  Comedy,Drama,Short             6.3   184.0   \n",
       "4              25         0  Comedy,Drama,Short             6.3   184.0   \n",
       "\n",
       "                                              review  rating   sp  pos  \\\n",
       "0  The pakage implies that Warren Beatty and Gold...       1  neg    0   \n",
       "1  How the hell did they get this made?! Presenti...       1  neg    0   \n",
       "2  There is no real story the film seems more lik...       3  neg    0   \n",
       "3  Um .... a serious film about troubled teens in...       7  pos    1   \n",
       "4  I'm totally agree with GarryJohal from Singapo...       9  pos    1   \n",
       "\n",
       "  ds_part   idx  \n",
       "0   train  8335  \n",
       "1   train  8336  \n",
       "2    test  2489  \n",
       "3    test  9280  \n",
       "4    test  9281  "
      ]
     },
     "execution_count": 2,
     "metadata": {},
     "output_type": "execute_result"
    }
   ],
   "source": [
    "df = pd.read_csv('/datasets/imdb_reviews.tsv', sep='\\t')\n",
    "# Ver las primeras filas para exploración\n",
    "df.head()"
   ]
  },
  {
   "cell_type": "code",
   "execution_count": 3,
   "metadata": {},
   "outputs": [
    {
     "name": "stdout",
     "output_type": "stream",
     "text": [
      "<class 'pandas.core.frame.DataFrame'>\n",
      "RangeIndex: 47331 entries, 0 to 47330\n",
      "Data columns (total 17 columns):\n",
      " #   Column           Non-Null Count  Dtype  \n",
      "---  ------           --------------  -----  \n",
      " 0   tconst           47331 non-null  object \n",
      " 1   title_type       47331 non-null  object \n",
      " 2   primary_title    47331 non-null  object \n",
      " 3   original_title   47331 non-null  object \n",
      " 4   start_year       47331 non-null  int64  \n",
      " 5   end_year         47331 non-null  object \n",
      " 6   runtime_minutes  47331 non-null  object \n",
      " 7   is_adult         47331 non-null  int64  \n",
      " 8   genres           47331 non-null  object \n",
      " 9   average_rating   47329 non-null  float64\n",
      " 10  votes            47329 non-null  float64\n",
      " 11  review           47331 non-null  object \n",
      " 12  rating           47331 non-null  int64  \n",
      " 13  sp               47331 non-null  object \n",
      " 14  pos              47331 non-null  int64  \n",
      " 15  ds_part          47331 non-null  object \n",
      " 16  idx              47331 non-null  int64  \n",
      "dtypes: float64(2), int64(5), object(10)\n",
      "memory usage: 6.1+ MB\n"
     ]
    }
   ],
   "source": [
    "df.info()"
   ]
  },
  {
   "cell_type": "markdown",
   "metadata": {},
   "source": [
    "Al analizar la informacion de nuestros datos podemos ver que es necesario realizar una separacion de informacion en la columna ds_part a fin de dividir los conjuntos de entrenamiento y prueba, ademas debemos realizar una limpieza de texto; eliminaremos signos de puntuación, convertiremos el texto a minúsculas y eliminaremos posibles palabras irrelevantes como \"the\", \"is\", etc, todo esto usando stopwords, finalmente procederemos a vectorizar, es decir;  convertiremos el texto en representaciones numéricas usando TF-IDF (Term Frequency-Inverse Document Frequency) a fin de poder entrenar nuestro modelo correctamente"
   ]
  },
  {
   "cell_type": "code",
   "execution_count": 4,
   "metadata": {},
   "outputs": [
    {
     "name": "stdout",
     "output_type": "stream",
     "text": [
      "Columnas del DataFrame: Index(['tconst', 'title_type', 'primary_title', 'original_title', 'start_year',\n",
      "       'end_year', 'runtime_minutes', 'is_adult', 'genres', 'average_rating',\n",
      "       'votes', 'review', 'rating', 'sp', 'pos', 'ds_part', 'idx',\n",
      "       'clean_review'],\n",
      "      dtype='object')\n",
      "                                              review  \\\n",
      "0  The pakage implies that Warren Beatty and Gold...   \n",
      "1  How the hell did they get this made?! Presenti...   \n",
      "2  There is no real story the film seems more lik...   \n",
      "3  Um .... a serious film about troubled teens in...   \n",
      "4  I'm totally agree with GarryJohal from Singapo...   \n",
      "\n",
      "                                        clean_review  \n",
      "0  the pakage implies that warren beatty and gold...  \n",
      "1  how the hell did they get this made presenting...  \n",
      "2  there is no real story the film seems more lik...  \n",
      "3  um  a serious film about troubled teens in sin...  \n",
      "4  im totally agree with garryjohal from singapor...  \n"
     ]
    }
   ],
   "source": [
    "# 2. Función para limpiar el texto\n",
    "def clean_text(text):\n",
    "    text = re.sub(r'[^a-zA-Z\\s]', '', text)  # Mantener solo letras y espacios\n",
    "    text = text.lower()  # Convertir a minúsculas\n",
    "    return text\n",
    "\n",
    "# 3. Limpiar las reseñas\n",
    "df['clean_review'] = df['review'].apply(clean_text)\n",
    "\n",
    "# Verificar si la columna 'clean_review' fue creada correctamente\n",
    "print(\"Columnas del DataFrame:\", df.columns)\n",
    "print(df[['review', 'clean_review']].head())  # Verificar algunas reseñas limpias\n"
   ]
  },
  {
   "cell_type": "code",
   "execution_count": 5,
   "metadata": {},
   "outputs": [
    {
     "name": "stdout",
     "output_type": "stream",
     "text": [
      "Tamaño del conjunto de entrenamiento: (23796, 18)\n",
      "Tamaño del conjunto de prueba: (23535, 18)\n"
     ]
    }
   ],
   "source": [
    "# Dividimos los datos en entrenamiento y prueba según la columna 'ds_part'\n",
    "# Filtramos el conjunto de entrenamiento y prueba\n",
    "train_data = df[df['ds_part'] == 'train'].reset_index(drop=True)\n",
    "test_data = df[df['ds_part'] == 'test'].reset_index(drop=True)\n",
    "\n",
    "# Verificamos las dimensiones de los nuevos DataFrames\n",
    "print(f\"Tamaño del conjunto de entrenamiento: {train_data.shape}\")\n",
    "print(f\"Tamaño del conjunto de prueba: {test_data.shape}\")\n"
   ]
  },
  {
   "cell_type": "code",
   "execution_count": 6,
   "metadata": {},
   "outputs": [],
   "source": [
    "# Comprobar si hay reseñas limpias antes de vectorizar\n",
    "if train_data['clean_review'].empty:\n",
    "    print(\"Error: train_data['clean_review'] está vacío.\")\n",
    "if test_data['clean_review'].empty:\n",
    "    print(\"Error: test_data['clean_review'] está vacío.\")"
   ]
  },
  {
   "cell_type": "code",
   "execution_count": 7,
   "metadata": {},
   "outputs": [
    {
     "name": "stdout",
     "output_type": "stream",
     "text": [
      "Tamaño de X_train: (23796, 10000)\n",
      "Tamaño de X_test: (23535, 10000)\n",
      "0    the pakage implies that warren beatty and gold...\n",
      "1    how the hell did they get this made presenting...\n",
      "2    this true story of carlsons raiders is more of...\n",
      "3    should have been titled balderdash little in t...\n",
      "4    the movie gung ho the story of carlsons makin ...\n",
      "Name: clean_review, dtype: object\n"
     ]
    }
   ],
   "source": [
    "# Vectorización necesaria\n",
    "vectorizer = TfidfVectorizer(max_features=10000)\n",
    "\n",
    "# Aplicar la vectorización a los datos de entrenamiento y prueba\n",
    "# Verificamos si 'clean_review' está en train_data antes de vectorizar\n",
    "if 'clean_review' in train_data.columns and 'clean_review' in test_data.columns:\n",
    "    X_train = vectorizer.fit_transform(train_data['clean_review'])\n",
    "    X_test = vectorizer.transform(test_data['clean_review'])\n",
    "else:\n",
    "    print(\"Error: 'clean_review' no se encuentra en train_data o test_data.\")\n",
    "\n",
    "# Definimos las etiquetas\n",
    "y_train = train_data['pos']\n",
    "y_test = test_data['pos']\n",
    "\n",
    "\n",
    "print(f\"Tamaño de X_train: {X_train.shape}\")\n",
    "print(f\"Tamaño de X_test: {X_test.shape}\")\n",
    "\n",
    "# Verificamos algunas reseñas después del preprocesamiento\n",
    "print(train_data['clean_review'].head())"
   ]
  },
  {
   "cell_type": "markdown",
   "metadata": {},
   "source": [
    "## Realizar un análisis exploratorio de datos y sobre el desequilibrio de clases."
   ]
  },
  {
   "cell_type": "code",
   "execution_count": 8,
   "metadata": {},
   "outputs": [
    {
     "name": "stdout",
     "output_type": "stream",
     "text": [
      "0    11912\n",
      "1    11884\n",
      "Name: pos, dtype: int64\n"
     ]
    },
    {
     "data": {
      "image/png": "[encoded data removed]",
      "text/plain": [
       "<Figure size 800x500 with 1 Axes>"
      ]
     },
     "metadata": {},
     "output_type": "display_data"
    }
   ],
   "source": [
    "# Contar la cantidad de muestras en cada clase\n",
    "class_counts = train_data['pos'].value_counts()\n",
    "print(class_counts)\n",
    "\n",
    "# Visualizar la distribución de clases\n",
    "plt.figure(figsize=(8, 5))\n",
    "sns.barplot(x=class_counts.index, y=class_counts.values, palette='viridis')\n",
    "plt.title('Distribución de Clases')\n",
    "plt.xlabel('Clase (0: Negativa, 1: Positiva)')\n",
    "plt.ylabel('Cantidad de Reseñas')\n",
    "plt.xticks(ticks=[0, 1], labels=['Negativa', 'Positiva'])\n",
    "plt.show()\n"
   ]
  },
  {
   "cell_type": "code",
   "execution_count": 9,
   "metadata": {},
   "outputs": [
    {
     "data": {
      "image/png": "[encoded data removed]",
      "text/plain": [
       "<Figure size 1200x600 with 1 Axes>"
      ]
     },
     "metadata": {},
     "output_type": "display_data"
    }
   ],
   "source": [
    "# Asegurar que la columna 'start_year' sea numérica\n",
    "train_data['start_year'] = pd.to_numeric(train_data['start_year'], errors='coerce')\n",
    "\n",
    "# Agrupar por año y contar las reseñas\n",
    "reviews_per_year = train_data.groupby('start_year').size().reset_index(name='count')\n",
    "\n",
    "# Creamos la visualización\n",
    "plt.figure(figsize=(12, 6))\n",
    "sns.barplot(data=reviews_per_year, x='start_year', y='count', color='skyblue')\n",
    "plt.title('Número de Reseñas a lo Largo de los Años')\n",
    "plt.xlabel('Año')\n",
    "plt.ylabel('Número de Reseñas')\n",
    "plt.xticks(rotation=90)\n",
    "plt.grid(axis='y')\n",
    "\n",
    "plt.tight_layout()\n",
    "plt.show()\n"
   ]
  },
  {
   "cell_type": "code",
   "execution_count": 10,
   "metadata": {},
   "outputs": [
    {
     "data": {
      "text/plain": [
       "<Figure size 1200x600 with 0 Axes>"
      ]
     },
     "metadata": {},
     "output_type": "display_data"
    },
    {
     "data": {
      "image/png": "[encoded data removed]",
      "text/plain": [
       "<Figure size 640x480 with 1 Axes>"
      ]
     },
     "metadata": {},
     "output_type": "display_data"
    }
   ],
   "source": [
    "# Asegurar que la columna 'start_year' sea del tipo entero\n",
    "train_data['start_year'] = train_data['start_year'].astype(int)\n",
    "\n",
    "# Contamos el número de reseñas positivas y negativas por año\n",
    "review_counts_by_year = train_data.groupby(['start_year', 'pos']).size().unstack(fill_value=0)\n",
    "\n",
    "# Creamos la visualización\n",
    "plt.figure(figsize=(12, 6))\n",
    "review_counts_by_year.plot(kind='bar', stacked=True, color=['red', 'green'], alpha=0.7)\n",
    "plt.title('Distribución de Reseñas Positivas y Negativas por Año')\n",
    "plt.xlabel('Año')\n",
    "plt.ylabel('Número de Reseñas')\n",
    "plt.xticks(rotation=90)\n",
    "plt.legend(['Negativas (0)', 'Positivas (1)'])\n",
    "plt.grid(axis='y')\n",
    "\n",
    "plt.tight_layout()\n",
    "plt.show()\n",
    "\n"
   ]
  },
  {
   "cell_type": "code",
   "execution_count": 11,
   "metadata": {},
   "outputs": [
    {
     "name": "stdout",
     "output_type": "stream",
     "text": [
      "0    50.058833\n",
      "1    49.941167\n",
      "Name: pos, dtype: float64\n"
     ]
    }
   ],
   "source": [
    "# Calculamos el porcentaje de cada clase\n",
    "class_percentages = class_counts / class_counts.sum() * 100\n",
    "print(class_percentages)\n"
   ]
  },
  {
   "cell_type": "markdown",
   "metadata": {},
   "source": [
    "La distribución de clases muestra que tenemos un equilibrio bastante razonable entre las reseñas positivas y negativas, con aproximadamente un 50% de cada clase. Esto es positivo porque con una distribución equilibrada, nuestros modelos tendrán una mejor oportunidad de aprender a clasificar ambas clases correctamente y ademas no se verán forzados a inclinarse hacia la clase mayoritaria, pudiendo asi realizar una buena clasificacion de las reseñas."
   ]
  },
  {
   "cell_type": "markdown",
   "metadata": {},
   "source": [
    "## Realizar el preprocesamiento de datos para el modelado."
   ]
  },
  {
   "cell_type": "code",
   "execution_count": 12,
   "metadata": {},
   "outputs": [],
   "source": [
    "# Escalamos características \n",
    "scaler = StandardScaler(with_mean=False)  # with_mean=False para matrices dispersas\n",
    "X_train_scaled = scaler.fit_transform(X_train)\n",
    "X_test_scaled = scaler.transform(X_test)\n"
   ]
  },
  {
   "cell_type": "markdown",
   "metadata": {},
   "source": [
    "## y 6. Entrenar al menos tres modelos diferentes para el conjunto de datos de entrenamiento y probar los modelos para el conjunto de datos de prueba."
   ]
  },
  {
   "cell_type": "code",
   "execution_count": 13,
   "metadata": {},
   "outputs": [
    {
     "name": "stdout",
     "output_type": "stream",
     "text": [
      "Regresión Logística:\n",
      "              precision    recall  f1-score   support\n",
      "\n",
      "           0       0.89      0.89      0.89     11803\n",
      "           1       0.88      0.88      0.88     11732\n",
      "\n",
      "    accuracy                           0.88     23535\n",
      "   macro avg       0.88      0.88      0.88     23535\n",
      "weighted avg       0.88      0.88      0.88     23535\n",
      "\n",
      "Precisión: 0.8848523475674527\n",
      "\n",
      "Árbol de Decisión:\n",
      "              precision    recall  f1-score   support\n",
      "\n",
      "           0       0.71      0.70      0.70     11803\n",
      "           1       0.70      0.71      0.70     11732\n",
      "\n",
      "    accuracy                           0.70     23535\n",
      "   macro avg       0.70      0.70      0.70     23535\n",
      "weighted avg       0.70      0.70      0.70     23535\n",
      "\n",
      "Precisión: 0.7044826853622265\n",
      "\n",
      "Random Forest:\n",
      "              precision    recall  f1-score   support\n",
      "\n",
      "           0       0.83      0.86      0.84     11803\n",
      "           1       0.85      0.82      0.83     11732\n",
      "\n",
      "    accuracy                           0.84     23535\n",
      "   macro avg       0.84      0.84      0.84     23535\n",
      "weighted avg       0.84      0.84      0.84     23535\n",
      "\n",
      "Precisión: 0.8377310388782664\n"
     ]
    }
   ],
   "source": [
    "# Inicializar los modelos\n",
    "logistic_model = LogisticRegression(max_iter=1000)\n",
    "decision_tree_model = DecisionTreeClassifier()\n",
    "random_forest_model = RandomForestClassifier()\n",
    "\n",
    "# Entrenar los modelos\n",
    "logistic_model.fit(X_train, y_train)\n",
    "decision_tree_model.fit(X_train, y_train)\n",
    "random_forest_model.fit(X_train, y_train)\n",
    "\n",
    "# Hacer predicciones\n",
    "logistic_pred = logistic_model.predict(X_test)\n",
    "decision_tree_pred = decision_tree_model.predict(X_test)\n",
    "random_forest_pred = random_forest_model.predict(X_test)\n",
    "\n",
    "# Evaluar los modelos\n",
    "print(\"Regresión Logística:\")\n",
    "print(classification_report(y_test, logistic_pred))\n",
    "print(\"Precisión:\", accuracy_score(y_test, logistic_pred))\n",
    "\n",
    "print(\"\\nÁrbol de Decisión:\")\n",
    "print(classification_report(y_test, decision_tree_pred))\n",
    "print(\"Precisión:\", accuracy_score(y_test, decision_tree_pred))\n",
    "\n",
    "print(\"\\nRandom Forest:\")\n",
    "print(classification_report(y_test, random_forest_pred))\n",
    "print(\"Precisión:\", accuracy_score(y_test, random_forest_pred))\n"
   ]
  },
  {
   "cell_type": "markdown",
   "metadata": {},
   "source": [
    "Despues de entrenar estos tres modelos, tenemos las siguientes conclusiones:\n",
    "\n",
    "1. Regresión Logística: La regresión logística tiene un gran rendimiento con una precisión de 0.88 para ambas clases, un recall de 0.89 para la clase 0 y 0.88 para la clase 1, y un F1-score de 0.89 (clase 0) y 0.88 (clase 1). Tiene una precisión general del 88%, por lo que supera el objetivo de F1 de 0.85 en la instruccion de nuestro proyecto. Su simplicidad y eficacia lo convierten en una excelente opción para el problema de clasificación de reseñas de películas.\n",
    "\n",
    "2. Árbol de Decisión: El árbol de decisión por otro lado tuvo un rendimiento significativamente inferior, con una precisión y un recall de 0.70 para ambas clases, y un F1-score de 0.70 en general. La precisión total también fue de 0.70. Este modelo no cumple el objetivo de F1 de 0.85.\n",
    "\n",
    "3. Random Forest: El modelo Random Forest también presentó un buen rendimiento con una precisión de 0.83 para la clase 0 y 0.85 para la clase 1, un recall de 0.85 para la clase 0 y 0.82 para la clase 1, y un F1-score de 0.84 y 0.83 para las clases 0 y 1, respectivamente. Con una precisión total de 0.84, este modelo es bastante fuerte y cercano al objetivo de F1 de 0.85, esto quiere decir que podriamos mejorarlo con algunos ajustes de hiperparámetros por lo que Random Forest es una buena opcion a considerar sin embargo el ganador continua siendo la regresion logistica."
   ]
  },
  {
   "cell_type": "markdown",
   "metadata": {},
   "source": [
    "## Escribir algunas reseñas y clasifícalas con todos los modelos."
   ]
  },
  {
   "cell_type": "code",
   "execution_count": 14,
   "metadata": {
    "scrolled": true
   },
   "outputs": [
    {
     "name": "stdout",
     "output_type": "stream",
     "text": [
      "Reseña: 'This movie was a waste of time; the plot was predictable, and the characters were boring.'\n",
      "  Regresión Logística: Negativa\n",
      "  Árbol de Decisión: Negativa\n",
      "  Random Forest: Negativa\n",
      "\n",
      "Reseña: 'An incredible journey to a magical world full of surprises. I would recommend it to everyone!'\n",
      "  Regresión Logística: Positiva\n",
      "  Árbol de Decisión: Positiva\n",
      "  Random Forest: Positiva\n",
      "\n",
      "Reseña: 'The acting was mediocre, and the ending left me disappointed. Not worth it.'\n",
      "  Regresión Logística: Negativa\n",
      "  Árbol de Decisión: Positiva\n",
      "  Random Forest: Positiva\n",
      "\n",
      "Reseña: 'A gem of cinema, with a brilliant script and exceptional performances. Absolutely fantastic.'\n",
      "  Regresión Logística: Positiva\n",
      "  Árbol de Decisión: Positiva\n",
      "  Random Forest: Positiva\n",
      "\n",
      "Reseña: 'I don't understand why this movie is so popular; it was really bad and uncreative.'\n",
      "  Regresión Logística: Negativa\n",
      "  Árbol de Decisión: Positiva\n",
      "  Random Forest: Negativa\n",
      "\n"
     ]
    }
   ],
   "source": [
    "# reseñas de ejemplo para clasificar\n",
    "new_reviews = [\n",
    "   \"This movie was a waste of time; the plot was predictable, and the characters were boring.\",\n",
    "    \"An incredible journey to a magical world full of surprises. I would recommend it to everyone!\",\n",
    "    \"The acting was mediocre, and the ending left me disappointed. Not worth it.\",\n",
    "    \"A gem of cinema, with a brilliant script and exceptional performances. Absolutely fantastic.\",\n",
    "    \"I don't understand why this movie is so popular; it was really bad and uncreative.\"\n",
    "]\n",
    "\n",
    "# Vectorizar las nuevas reseñas utilizando el vectorizador ya ajustado\n",
    "X_new_reviews = vectorizer.transform(new_reviews)\n",
    "\n",
    "# Clasificación con cada modelo\n",
    "logistic_predictions = logistic_model.predict(X_new_reviews)\n",
    "decision_tree_predictions = decision_tree_model.predict(X_new_reviews)\n",
    "random_forest_predictions = random_forest_model.predict(X_new_reviews)\n",
    "\n",
    "# Mostrar resultados\n",
    "for review, log_pred, dt_pred, rf_pred in zip(new_reviews, logistic_predictions, decision_tree_predictions, random_forest_predictions):\n",
    "    print(f\"Reseña: '{review}'\")\n",
    "    print(f\"  Regresión Logística: {'Positiva' if log_pred == 1 else 'Negativa'}\")\n",
    "    print(f\"  Árbol de Decisión: {'Positiva' if dt_pred == 1 else 'Negativa'}\")\n",
    "    print(f\"  Random Forest: {'Positiva' if rf_pred == 1 else 'Negativa'}\")\n",
    "    print()\n"
   ]
  },
  {
   "cell_type": "markdown",
   "metadata": {},
   "source": [
    "## Buscar las diferencias entre los resultados de las pruebas de los modelos en los dos puntos anteriores."
   ]
  },
  {
   "cell_type": "markdown",
   "metadata": {},
   "source": [
    "El modelo de Regresión Logística logró clasificar las reseñas con una precisión notable, identificando correctamente las reseñas negativas como negativas y las positivas como positivas en casi todos los casos. En particular, clasificó las reseñas que contenían críticas contundentes sobre la película como negativas, mientras que aquellas que elogiaban la trama y las actuaciones fueron etiquetadas como positivas. Este modelo demostró un buen equilibrio entre precisión y recall, con un desempeño general sólido.\n",
    "\n",
    "\n",
    "El modelo de Árbol de Decisión mostró resultados consistentes con las clasificaciones de la Regresión Logística, identificando correctamente la mayoría de las reseñas negativas y positivas. Este modelo también fue capaz de discernir entre reseñas con lenguaje claramente negativo y aquellas con descripciones entusiastas, mostrando un rendimiento similar al de la Regresión Logística. Sin embargo, su tendencia a realizar predicciones menos matizadas sugiere que podría beneficiarse de ajustes adicionales en su estructura y parámetros.\n",
    "\n",
    "\n",
    "El modelo de Random Forest presentó resultados igualmente positivos, logrando clasificaciones coherentes y precisas para las reseñas. Como modelo de ensamble, combinó múltiples árboles de decisión, lo que le permitió generalizar mejor y evitar el sobreajuste en comparación con un único árbol. Al igual que los otros modelos, identificó correctamente tanto reseñas críticas como elogiosas, lo que indica que ha aprendido eficazmente de las características del lenguaje utilizadas en el conjunto de datos de entrenamiento. Sin embargo, podría ser útil realizar un ajuste de hiperparámetros para optimizar aún más su rendimiento."
   ]
  },
  {
   "cell_type": "markdown",
   "metadata": {},
   "source": [
    "## Conclusiones y hallazgos"
   ]
  },
  {
   "cell_type": "markdown",
   "metadata": {},
   "source": [
    "**Film Junky Union** es una comunidad innovadora para los amantes del cine clásico. Este proyecto tuvo como objetivo desarrollar un sistema de clasificación automática de reseñas de películas utilizando aprendizaje automático, permitiendo identificar críticas negativas de forma eficiente. El proceso para lograrlo fue el siguiente:  \n",
    " \n",
    "1. **Preprocesamiento de Datos**:  \n",
    "   - Limpieza del texto para eliminar ruido (caracteres no alfabéticos, mayúsculas y stopwords).  \n",
    "   - Vectorización de las reseñas mediante TF-IDF, para transformar texto en representaciones numéricas.  \n",
    "\n",
    "2. **Modelado**:  \n",
    "   - Se entrenaron y evaluaron tres modelos: Regresión Logística, Árbol de Decisión y Bosques Aleatorios.  \n",
    "   - La Regresión Logística obtuvo el mejor desempeño con un **F1-Score** de 0.88, superando el objetivo establecido.  \n",
    "\n",
    "3. **Evaluación**:  \n",
    "   - Los modelos fueron evaluados con métricas como precisión, recall y F1-Score, asegurando la confiabilidad de los resultados.  \n",
    "\n",
    "4. **Clasificación de Nuevas Reseñas**:  \n",
    "   - El sistema fue probado con reseñas simuladas, demostrando su capacidad para identificar críticas negativas y positivas con alta precisión.  \n",
    "\n",
    " \n",
    "La Regresión Logística demostró ser la mejor opción debido a su balance entre simplicidad y rendimiento. Este modelo cumple con los requisitos del proyecto y es altamente escalable para futuros desarrollos.  "
   ]
  }
 ],
 "metadata": {
  "ExecuteTimeLog": [
   {
    "duration": 2562,
    "start_time": "2024-10-13T01:46:06.782Z"
   },
   {
    "duration": 7,
    "start_time": "2024-10-13T01:46:15.118Z"
   },
   {
    "duration": 3,
    "start_time": "2024-10-13T01:46:19.006Z"
   },
   {
    "duration": 3,
    "start_time": "2024-10-13T01:47:10.921Z"
   },
   {
    "duration": 310,
    "start_time": "2024-10-13T01:47:19.871Z"
   },
   {
    "duration": 612,
    "start_time": "2024-10-13T01:47:43.750Z"
   },
   {
    "duration": 69,
    "start_time": "2024-10-13T01:48:17.621Z"
   },
   {
    "duration": 652,
    "start_time": "2024-10-13T01:48:40.872Z"
   },
   {
    "duration": 605,
    "start_time": "2024-10-13T01:48:49.155Z"
   },
   {
    "duration": 581,
    "start_time": "2024-10-13T01:49:02.344Z"
   },
   {
    "duration": 27,
    "start_time": "2024-10-13T01:49:11.906Z"
   },
   {
    "duration": 187,
    "start_time": "2024-10-13T01:54:58.330Z"
   },
   {
    "duration": 2972,
    "start_time": "2024-10-13T01:55:26.664Z"
   },
   {
    "duration": 659,
    "start_time": "2024-10-13T01:55:42.578Z"
   },
   {
    "duration": 5,
    "start_time": "2024-10-13T01:55:52.980Z"
   },
   {
    "duration": 187,
    "start_time": "2024-10-13T01:56:11.655Z"
   },
   {
    "duration": 304,
    "start_time": "2024-10-13T01:56:16.872Z"
   },
   {
    "duration": 3664,
    "start_time": "2024-10-13T01:56:45.754Z"
   },
   {
    "duration": 2068,
    "start_time": "2024-10-13T02:03:11.368Z"
   },
   {
    "duration": 3,
    "start_time": "2024-10-13T02:03:32.243Z"
   },
   {
    "duration": 3,
    "start_time": "2024-10-13T02:03:33.226Z"
   },
   {
    "duration": 589,
    "start_time": "2024-10-13T02:03:33.931Z"
   },
   {
    "duration": 23,
    "start_time": "2024-10-13T02:03:34.524Z"
   },
   {
    "duration": 1886,
    "start_time": "2024-10-13T02:03:35.018Z"
   },
   {
    "duration": 2,
    "start_time": "2024-10-13T02:04:40.658Z"
   },
   {
    "duration": 2,
    "start_time": "2024-10-13T02:04:42.533Z"
   },
   {
    "duration": 620,
    "start_time": "2024-10-13T02:04:43.195Z"
   },
   {
    "duration": 37,
    "start_time": "2024-10-13T02:04:43.818Z"
   },
   {
    "duration": 515,
    "start_time": "2024-10-13T02:04:58.165Z"
   },
   {
    "duration": 2345,
    "start_time": "2024-10-13T02:06:21.232Z"
   },
   {
    "duration": 891,
    "start_time": "2024-10-13T02:07:34.068Z"
   },
   {
    "duration": 686,
    "start_time": "2024-10-13T02:07:34.965Z"
   },
   {
    "duration": 29,
    "start_time": "2024-10-13T02:07:35.652Z"
   },
   {
    "duration": 2876,
    "start_time": "2024-10-13T02:07:37.813Z"
   },
   {
    "duration": 5,
    "start_time": "2024-10-13T02:08:41.581Z"
   },
   {
    "duration": 3179,
    "start_time": "2024-10-13T02:09:05.872Z"
   },
   {
    "duration": 4,
    "start_time": "2024-10-13T02:09:27.013Z"
   },
   {
    "duration": 727,
    "start_time": "2024-10-13T02:09:27.480Z"
   },
   {
    "duration": 34,
    "start_time": "2024-10-13T02:09:28.209Z"
   },
   {
    "duration": 3497,
    "start_time": "2024-10-13T02:09:28.713Z"
   },
   {
    "duration": 542,
    "start_time": "2024-10-13T02:15:57.976Z"
   },
   {
    "duration": 4,
    "start_time": "2024-10-13T02:16:17.304Z"
   },
   {
    "duration": 711,
    "start_time": "2024-10-13T02:16:17.860Z"
   },
   {
    "duration": 29,
    "start_time": "2024-10-13T02:16:18.574Z"
   },
   {
    "duration": 1467,
    "start_time": "2024-10-13T02:16:20.246Z"
   },
   {
    "duration": 1044,
    "start_time": "2024-10-13T02:16:46.540Z"
   },
   {
    "duration": 1119,
    "start_time": "2024-10-13T02:17:53.059Z"
   },
   {
    "duration": 854,
    "start_time": "2024-10-13T02:19:51.444Z"
   },
   {
    "duration": 739,
    "start_time": "2024-10-13T02:19:52.737Z"
   },
   {
    "duration": 40,
    "start_time": "2024-10-13T02:19:54.499Z"
   },
   {
    "duration": 913,
    "start_time": "2024-10-13T02:22:23.279Z"
   },
   {
    "duration": 10,
    "start_time": "2024-10-13T02:22:48.209Z"
   },
   {
    "duration": 59,
    "start_time": "2024-10-13T02:23:22.819Z"
   },
   {
    "duration": 15,
    "start_time": "2024-10-13T02:23:43.198Z"
   },
   {
    "duration": 10,
    "start_time": "2024-10-13T02:23:46.298Z"
   },
   {
    "duration": 117,
    "start_time": "2024-10-13T02:24:32.772Z"
   },
   {
    "duration": 37,
    "start_time": "2024-10-13T02:24:44.457Z"
   },
   {
    "duration": 215,
    "start_time": "2024-10-13T02:25:53.397Z"
   },
   {
    "duration": 831,
    "start_time": "2024-10-13T02:26:09.697Z"
   },
   {
    "duration": 19,
    "start_time": "2024-10-13T02:26:10.532Z"
   },
   {
    "duration": 8,
    "start_time": "2024-10-13T02:26:10.555Z"
   },
   {
    "duration": 45,
    "start_time": "2024-10-13T02:26:11.804Z"
   },
   {
    "duration": 44,
    "start_time": "2024-10-13T02:26:31.279Z"
   },
   {
    "duration": 122,
    "start_time": "2024-10-13T02:27:00.129Z"
   },
   {
    "duration": 9,
    "start_time": "2024-10-13T02:28:47.249Z"
   },
   {
    "duration": 8,
    "start_time": "2024-10-13T02:28:56.079Z"
   },
   {
    "duration": 33,
    "start_time": "2024-10-13T02:29:17.660Z"
   },
   {
    "duration": 755,
    "start_time": "2024-10-13T02:31:10.352Z"
   },
   {
    "duration": 644,
    "start_time": "2024-10-13T02:31:11.109Z"
   },
   {
    "duration": 25,
    "start_time": "2024-10-13T02:31:11.755Z"
   },
   {
    "duration": 846,
    "start_time": "2024-10-13T02:31:11.793Z"
   },
   {
    "duration": 11,
    "start_time": "2024-10-13T02:31:12.650Z"
   },
   {
    "duration": 8,
    "start_time": "2024-10-13T02:31:15.999Z"
   },
   {
    "duration": 4,
    "start_time": "2024-10-13T02:31:18.649Z"
   },
   {
    "duration": 3,
    "start_time": "2024-10-13T02:31:46.094Z"
   },
   {
    "duration": 5,
    "start_time": "2024-10-13T02:32:03.745Z"
   },
   {
    "duration": 16,
    "start_time": "2024-10-13T02:33:01.324Z"
   },
   {
    "duration": 600,
    "start_time": "2024-10-13T02:37:24.846Z"
   },
   {
    "duration": 757,
    "start_time": "2024-10-13T02:37:38.536Z"
   },
   {
    "duration": 8,
    "start_time": "2024-10-13T02:37:56.822Z"
   },
   {
    "duration": 4,
    "start_time": "2024-10-13T02:37:59.306Z"
   },
   {
    "duration": 18,
    "start_time": "2024-10-13T02:39:20.335Z"
   },
   {
    "duration": 3,
    "start_time": "2024-10-13T02:39:24.864Z"
   },
   {
    "duration": 4815,
    "start_time": "2024-10-13T02:39:39.020Z"
   },
   {
    "duration": 323,
    "start_time": "2024-10-13T02:41:47.169Z"
   },
   {
    "duration": 5,
    "start_time": "2024-10-13T02:42:03.328Z"
   },
   {
    "duration": 229,
    "start_time": "2024-10-13T02:43:02.157Z"
   },
   {
    "duration": 1317,
    "start_time": "2024-10-13T02:43:59.889Z"
   },
   {
    "duration": 1436,
    "start_time": "2024-10-13T02:44:09.213Z"
   },
   {
    "duration": 1395,
    "start_time": "2024-10-13T02:44:18.289Z"
   },
   {
    "duration": 188,
    "start_time": "2024-10-13T02:45:44.081Z"
   },
   {
    "duration": 1502,
    "start_time": "2024-10-13T02:46:19.602Z"
   },
   {
    "duration": 1454,
    "start_time": "2024-10-13T02:46:29.615Z"
   },
   {
    "duration": 1586,
    "start_time": "2024-10-13T02:46:39.201Z"
   },
   {
    "duration": 1443,
    "start_time": "2024-10-13T02:46:50.691Z"
   },
   {
    "duration": 1366,
    "start_time": "2024-10-13T02:46:58.614Z"
   },
   {
    "duration": 1523,
    "start_time": "2024-10-13T02:47:07.361Z"
   },
   {
    "duration": 1409,
    "start_time": "2024-10-13T02:47:15.855Z"
   },
   {
    "duration": 1466,
    "start_time": "2024-10-13T02:47:31.481Z"
   },
   {
    "duration": 24,
    "start_time": "2024-10-13T02:51:16.604Z"
   },
   {
    "duration": 71,
    "start_time": "2024-10-13T02:51:29.576Z"
   },
   {
    "duration": 749,
    "start_time": "2024-10-14T18:34:44.112Z"
   },
   {
    "duration": 688,
    "start_time": "2024-10-14T18:34:44.863Z"
   },
   {
    "duration": 27,
    "start_time": "2024-10-14T18:34:45.553Z"
   },
   {
    "duration": 778,
    "start_time": "2024-10-14T18:34:46.153Z"
   },
   {
    "duration": 21,
    "start_time": "2024-10-14T18:34:46.933Z"
   },
   {
    "duration": 3,
    "start_time": "2024-10-14T18:34:47.012Z"
   },
   {
    "duration": 4877,
    "start_time": "2024-10-14T18:34:47.923Z"
   },
   {
    "duration": 2183,
    "start_time": "2024-10-14T18:34:52.803Z"
   },
   {
    "duration": 1469,
    "start_time": "2024-10-14T18:34:54.988Z"
   },
   {
    "duration": 1454,
    "start_time": "2024-10-14T18:34:56.461Z"
   },
   {
    "duration": 18,
    "start_time": "2024-10-14T18:34:57.916Z"
   },
   {
    "duration": 62,
    "start_time": "2024-10-14T18:34:57.936Z"
   },
   {
    "duration": 63201,
    "start_time": "2024-10-14T18:35:28.765Z"
   },
   {
    "duration": 8,
    "start_time": "2024-10-14T18:37:43.099Z"
   },
   {
    "duration": 3,
    "start_time": "2024-10-14T18:37:48.691Z"
   },
   {
    "duration": 1966,
    "start_time": "2024-10-14T18:37:57.790Z"
   },
   {
    "duration": 1845,
    "start_time": "2024-10-14T18:41:37.263Z"
   },
   {
    "duration": 135929,
    "start_time": "2024-10-14T18:41:48.260Z"
   },
   {
    "duration": 482,
    "start_time": "2024-10-14T18:44:04.191Z"
   },
   {
    "duration": 0,
    "start_time": "2024-10-14T18:44:04.675Z"
   },
   {
    "duration": 23,
    "start_time": "2024-10-14T18:44:32.222Z"
   },
   {
    "duration": 23,
    "start_time": "2024-10-14T18:44:33.443Z"
   },
   {
    "duration": 19,
    "start_time": "2024-10-14T18:44:33.734Z"
   },
   {
    "duration": 27,
    "start_time": "2024-10-14T18:44:34.074Z"
   },
   {
    "duration": 22,
    "start_time": "2024-10-14T18:44:34.360Z"
   },
   {
    "duration": 4545,
    "start_time": "2024-10-14T23:18:53.158Z"
   },
   {
    "duration": 706,
    "start_time": "2024-10-14T23:18:57.705Z"
   },
   {
    "duration": 23,
    "start_time": "2024-10-14T23:18:58.413Z"
   },
   {
    "duration": 802,
    "start_time": "2024-10-14T23:18:58.438Z"
   },
   {
    "duration": 20,
    "start_time": "2024-10-14T23:18:59.242Z"
   },
   {
    "duration": 3,
    "start_time": "2024-10-14T23:18:59.264Z"
   },
   {
    "duration": 4599,
    "start_time": "2024-10-14T23:18:59.270Z"
   },
   {
    "duration": 113,
    "start_time": "2024-10-14T23:19:03.871Z"
   },
   {
    "duration": 1557,
    "start_time": "2024-10-14T23:19:03.986Z"
   },
   {
    "duration": 1439,
    "start_time": "2024-10-14T23:19:05.546Z"
   },
   {
    "duration": 6,
    "start_time": "2024-10-14T23:19:06.987Z"
   },
   {
    "duration": 71,
    "start_time": "2024-10-14T23:19:06.994Z"
   },
   {
    "duration": 62367,
    "start_time": "2024-10-14T23:19:07.067Z"
   },
   {
    "duration": 1326,
    "start_time": "2024-10-14T23:20:09.436Z"
   },
   {
    "duration": 132250,
    "start_time": "2024-10-14T23:20:10.764Z"
   },
   {
    "duration": 459,
    "start_time": "2024-10-14T23:22:23.017Z"
   },
   {
    "duration": 5,
    "start_time": "2024-10-14T23:23:43.424Z"
   },
   {
    "duration": 4,
    "start_time": "2024-10-14T23:23:55.678Z"
   },
   {
    "duration": 4,
    "start_time": "2024-10-14T23:23:58.468Z"
   },
   {
    "duration": 12,
    "start_time": "2024-10-14T23:23:58.961Z"
   },
   {
    "duration": 159,
    "start_time": "2024-10-14T23:24:20.594Z"
   },
   {
    "duration": 2972,
    "start_time": "2024-10-14T23:27:02.324Z"
   },
   {
    "duration": 682,
    "start_time": "2024-10-14T23:27:05.299Z"
   },
   {
    "duration": 32,
    "start_time": "2024-10-14T23:27:05.982Z"
   },
   {
    "duration": 796,
    "start_time": "2024-10-14T23:27:06.017Z"
   },
   {
    "duration": 20,
    "start_time": "2024-10-14T23:27:06.817Z"
   },
   {
    "duration": 3,
    "start_time": "2024-10-14T23:27:06.839Z"
   },
   {
    "duration": 4730,
    "start_time": "2024-10-14T23:27:06.843Z"
   },
   {
    "duration": 112,
    "start_time": "2024-10-14T23:27:11.575Z"
   },
   {
    "duration": 1381,
    "start_time": "2024-10-14T23:27:11.689Z"
   },
   {
    "duration": 1599,
    "start_time": "2024-10-14T23:27:13.073Z"
   },
   {
    "duration": 5,
    "start_time": "2024-10-14T23:27:14.674Z"
   },
   {
    "duration": 69,
    "start_time": "2024-10-14T23:27:14.681Z"
   },
   {
    "duration": 62344,
    "start_time": "2024-10-14T23:27:14.752Z"
   },
   {
    "duration": 1492,
    "start_time": "2024-10-14T23:28:17.099Z"
   },
   {
    "duration": 135399,
    "start_time": "2024-10-14T23:28:18.593Z"
   },
   {
    "duration": 14,
    "start_time": "2024-10-14T23:30:33.994Z"
   },
   {
    "duration": 6,
    "start_time": "2024-10-14T23:30:34.010Z"
   },
   {
    "duration": 2885,
    "start_time": "2024-10-14T23:32:18.184Z"
   },
   {
    "duration": 685,
    "start_time": "2024-10-14T23:32:21.072Z"
   },
   {
    "duration": 27,
    "start_time": "2024-10-14T23:32:21.758Z"
   },
   {
    "duration": 806,
    "start_time": "2024-10-14T23:32:21.788Z"
   },
   {
    "duration": 25,
    "start_time": "2024-10-14T23:32:22.595Z"
   },
   {
    "duration": 4,
    "start_time": "2024-10-14T23:32:22.622Z"
   },
   {
    "duration": 4711,
    "start_time": "2024-10-14T23:32:22.628Z"
   },
   {
    "duration": 109,
    "start_time": "2024-10-14T23:32:27.341Z"
   },
   {
    "duration": 1456,
    "start_time": "2024-10-14T23:32:27.452Z"
   },
   {
    "duration": 1486,
    "start_time": "2024-10-14T23:32:28.911Z"
   },
   {
    "duration": 10,
    "start_time": "2024-10-14T23:32:30.399Z"
   },
   {
    "duration": 61,
    "start_time": "2024-10-14T23:32:30.411Z"
   },
   {
    "duration": 62053,
    "start_time": "2024-10-14T23:32:30.474Z"
   },
   {
    "duration": 447,
    "start_time": "2024-10-14T23:33:32.529Z"
   },
   {
    "duration": 0,
    "start_time": "2024-10-14T23:33:32.978Z"
   },
   {
    "duration": 0,
    "start_time": "2024-10-14T23:33:32.980Z"
   },
   {
    "duration": 0,
    "start_time": "2024-10-14T23:33:32.981Z"
   },
   {
    "duration": 4,
    "start_time": "2024-10-14T23:35:06.743Z"
   },
   {
    "duration": 1577,
    "start_time": "2024-10-14T23:35:14.753Z"
   },
   {
    "duration": 5,
    "start_time": "2024-10-14T23:35:20.198Z"
   },
   {
    "duration": 8,
    "start_time": "2024-10-14T23:36:22.666Z"
   },
   {
    "duration": 25,
    "start_time": "2024-10-14T23:36:31.719Z"
   },
   {
    "duration": 562,
    "start_time": "2024-10-14T23:37:59.597Z"
   },
   {
    "duration": 22,
    "start_time": "2024-10-14T23:38:41.434Z"
   },
   {
    "duration": 21,
    "start_time": "2024-10-14T23:40:12.926Z"
   },
   {
    "duration": 797,
    "start_time": "2024-10-14T23:41:12.447Z"
   },
   {
    "duration": 1540,
    "start_time": "2024-10-14T23:41:25.536Z"
   },
   {
    "duration": 8,
    "start_time": "2024-10-14T23:41:27.078Z"
   },
   {
    "duration": 28,
    "start_time": "2024-10-14T23:41:27.087Z"
   },
   {
    "duration": 69,
    "start_time": "2024-10-14T23:41:33.983Z"
   },
   {
    "duration": 1155,
    "start_time": "2024-10-14T23:42:42.814Z"
   },
   {
    "duration": 7,
    "start_time": "2024-10-14T23:42:43.971Z"
   },
   {
    "duration": 68,
    "start_time": "2024-10-14T23:42:44.856Z"
   },
   {
    "duration": 82,
    "start_time": "2024-10-14T23:43:12.826Z"
   },
   {
    "duration": 1345,
    "start_time": "2024-10-14T23:49:47.044Z"
   },
   {
    "duration": 143431,
    "start_time": "2024-10-14T23:49:57.108Z"
   },
   {
    "duration": 3202,
    "start_time": "2024-10-16T18:59:14.101Z"
   },
   {
    "duration": 658,
    "start_time": "2024-10-16T18:59:17.305Z"
   },
   {
    "duration": 23,
    "start_time": "2024-10-16T18:59:17.965Z"
   },
   {
    "duration": 800,
    "start_time": "2024-10-16T18:59:17.990Z"
   },
   {
    "duration": 20,
    "start_time": "2024-10-16T18:59:18.792Z"
   },
   {
    "duration": 3,
    "start_time": "2024-10-16T18:59:18.824Z"
   },
   {
    "duration": 4603,
    "start_time": "2024-10-16T18:59:18.828Z"
   },
   {
    "duration": 109,
    "start_time": "2024-10-16T18:59:23.433Z"
   },
   {
    "duration": 1393,
    "start_time": "2024-10-16T18:59:23.544Z"
   },
   {
    "duration": 1501,
    "start_time": "2024-10-16T18:59:24.940Z"
   },
   {
    "duration": 5,
    "start_time": "2024-10-16T18:59:26.443Z"
   },
   {
    "duration": 57,
    "start_time": "2024-10-16T18:59:26.450Z"
   },
   {
    "duration": 60619,
    "start_time": "2024-10-16T18:59:26.509Z"
   },
   {
    "duration": 810,
    "start_time": "2024-10-16T19:00:27.130Z"
   },
   {
    "duration": 2552,
    "start_time": "2024-10-16T19:00:27.941Z"
   },
   {
    "duration": 136006,
    "start_time": "2024-10-16T19:00:30.494Z"
   },
   {
    "duration": 0,
    "start_time": "2024-10-16T19:02:46.502Z"
   },
   {
    "duration": 3413,
    "start_time": "2024-10-17T12:48:08.403Z"
   },
   {
    "duration": 686,
    "start_time": "2024-10-17T12:48:11.818Z"
   },
   {
    "duration": 28,
    "start_time": "2024-10-17T12:48:12.506Z"
   },
   {
    "duration": 853,
    "start_time": "2024-10-17T12:48:12.537Z"
   },
   {
    "duration": 23,
    "start_time": "2024-10-17T12:48:13.393Z"
   },
   {
    "duration": 3,
    "start_time": "2024-10-17T12:48:13.418Z"
   },
   {
    "duration": 4612,
    "start_time": "2024-10-17T12:48:13.423Z"
   },
   {
    "duration": 117,
    "start_time": "2024-10-17T12:48:18.039Z"
   },
   {
    "duration": 1458,
    "start_time": "2024-10-17T12:48:18.158Z"
   },
   {
    "duration": 1425,
    "start_time": "2024-10-17T12:48:19.618Z"
   },
   {
    "duration": 12,
    "start_time": "2024-10-17T12:48:21.045Z"
   },
   {
    "duration": 70,
    "start_time": "2024-10-17T12:48:21.059Z"
   },
   {
    "duration": 62830,
    "start_time": "2024-10-17T12:48:21.131Z"
   },
   {
    "duration": 810,
    "start_time": "2024-10-17T12:49:23.963Z"
   },
   {
    "duration": 2785,
    "start_time": "2024-10-17T12:49:24.775Z"
   },
   {
    "duration": 3367,
    "start_time": "2024-10-22T21:06:22.465Z"
   },
   {
    "duration": 739,
    "start_time": "2024-10-22T21:06:25.834Z"
   },
   {
    "duration": 27,
    "start_time": "2024-10-22T21:06:27.759Z"
   },
   {
    "duration": 797,
    "start_time": "2024-10-22T21:06:28.728Z"
   },
   {
    "duration": 21,
    "start_time": "2024-10-22T21:06:30.823Z"
   },
   {
    "duration": 4,
    "start_time": "2024-10-22T21:06:32.008Z"
   },
   {
    "duration": 4675,
    "start_time": "2024-10-22T21:06:34.826Z"
   },
   {
    "duration": 111,
    "start_time": "2024-10-22T21:06:39.504Z"
   },
   {
    "duration": 1493,
    "start_time": "2024-10-22T21:06:39.617Z"
   },
   {
    "duration": 1460,
    "start_time": "2024-10-22T21:06:41.113Z"
   },
   {
    "duration": 5,
    "start_time": "2024-10-22T21:06:42.576Z"
   },
   {
    "duration": 57,
    "start_time": "2024-10-22T21:06:43.559Z"
   },
   {
    "duration": 62460,
    "start_time": "2024-10-22T21:06:47.645Z"
   },
   {
    "duration": 3169,
    "start_time": "2024-10-22T21:16:42.566Z"
   },
   {
    "duration": 1387,
    "start_time": "2024-10-22T21:16:58.620Z"
   },
   {
    "duration": 38,
    "start_time": "2024-10-22T21:17:21.555Z"
   },
   {
    "duration": 165,
    "start_time": "2024-10-22T21:21:23.502Z"
   },
   {
    "duration": 14,
    "start_time": "2024-10-22T21:21:31.126Z"
   },
   {
    "duration": 15,
    "start_time": "2024-10-22T21:32:13.393Z"
   },
   {
    "duration": 16,
    "start_time": "2024-10-22T21:32:51.450Z"
   },
   {
    "duration": 15,
    "start_time": "2024-10-22T21:33:00.913Z"
   },
   {
    "duration": 1588,
    "start_time": "2024-10-22T21:33:14.312Z"
   },
   {
    "duration": 684,
    "start_time": "2024-10-22T21:33:15.902Z"
   },
   {
    "duration": 27,
    "start_time": "2024-10-22T21:33:16.588Z"
   },
   {
    "duration": 826,
    "start_time": "2024-10-22T21:33:16.618Z"
   },
   {
    "duration": 24,
    "start_time": "2024-10-22T21:33:17.446Z"
   },
   {
    "duration": 4,
    "start_time": "2024-10-22T21:33:17.472Z"
   },
   {
    "duration": 4582,
    "start_time": "2024-10-22T21:33:17.478Z"
   },
   {
    "duration": 108,
    "start_time": "2024-10-22T21:33:22.062Z"
   },
   {
    "duration": 1400,
    "start_time": "2024-10-22T21:33:22.172Z"
   },
   {
    "duration": 1524,
    "start_time": "2024-10-22T21:33:23.575Z"
   },
   {
    "duration": 5,
    "start_time": "2024-10-22T21:33:25.101Z"
   },
   {
    "duration": 78,
    "start_time": "2024-10-22T21:33:25.107Z"
   },
   {
    "duration": 61427,
    "start_time": "2024-10-22T21:33:25.187Z"
   },
   {
    "duration": 387,
    "start_time": "2024-10-22T21:34:26.616Z"
   },
   {
    "duration": 11,
    "start_time": "2024-10-22T21:36:48.605Z"
   },
   {
    "duration": 118,
    "start_time": "2024-10-22T21:43:26.083Z"
   },
   {
    "duration": 108964,
    "start_time": "2024-10-22T21:43:45.686Z"
   },
   {
    "duration": 6,
    "start_time": "2024-10-22T21:50:47.976Z"
   },
   {
    "duration": 104929,
    "start_time": "2024-10-22T22:08:09.026Z"
   },
   {
    "duration": 19,
    "start_time": "2024-10-22T22:19:16.703Z"
   },
   {
    "duration": 7966,
    "start_time": "2024-10-22T22:19:55.714Z"
   },
   {
    "duration": 252830,
    "start_time": "2024-10-22T22:20:58.355Z"
   },
   {
    "duration": 5,
    "start_time": "2024-10-22T22:27:36.098Z"
   },
   {
    "duration": 119,
    "start_time": "2024-10-22T22:27:48.547Z"
   },
   {
    "duration": 1535,
    "start_time": "2024-10-22T22:28:22.429Z"
   },
   {
    "duration": 608,
    "start_time": "2024-10-22T22:28:23.966Z"
   },
   {
    "duration": 24,
    "start_time": "2024-10-22T22:28:24.576Z"
   },
   {
    "duration": 792,
    "start_time": "2024-10-22T22:28:24.602Z"
   },
   {
    "duration": 19,
    "start_time": "2024-10-22T22:28:25.396Z"
   },
   {
    "duration": 3,
    "start_time": "2024-10-22T22:28:25.417Z"
   },
   {
    "duration": 4649,
    "start_time": "2024-10-22T22:28:25.421Z"
   },
   {
    "duration": 106,
    "start_time": "2024-10-22T22:28:30.074Z"
   },
   {
    "duration": 1392,
    "start_time": "2024-10-22T22:28:30.182Z"
   },
   {
    "duration": 1507,
    "start_time": "2024-10-22T22:28:31.576Z"
   },
   {
    "duration": 6,
    "start_time": "2024-10-22T22:28:33.085Z"
   },
   {
    "duration": 78,
    "start_time": "2024-10-22T22:28:33.093Z"
   },
   {
    "duration": 61021,
    "start_time": "2024-10-22T22:28:33.172Z"
   },
   {
    "duration": 11,
    "start_time": "2024-10-22T22:29:34.195Z"
   },
   {
    "duration": 2933,
    "start_time": "2024-10-23T03:29:39.344Z"
   },
   {
    "duration": 665,
    "start_time": "2024-10-23T03:29:45.132Z"
   },
   {
    "duration": 28,
    "start_time": "2024-10-23T03:29:49.717Z"
   },
   {
    "duration": 754,
    "start_time": "2024-10-23T03:30:05.221Z"
   },
   {
    "duration": 253,
    "start_time": "2024-10-23T03:32:34.755Z"
   },
   {
    "duration": 769,
    "start_time": "2024-10-23T03:32:43.363Z"
   },
   {
    "duration": 18,
    "start_time": "2024-10-23T03:32:45.198Z"
   },
   {
    "duration": 3,
    "start_time": "2024-10-23T03:32:48.023Z"
   },
   {
    "duration": 4494,
    "start_time": "2024-10-23T03:32:49.732Z"
   },
   {
    "duration": 104,
    "start_time": "2024-10-23T03:32:55.938Z"
   },
   {
    "duration": 1464,
    "start_time": "2024-10-23T03:33:29.910Z"
   },
   {
    "duration": 59,
    "start_time": "2024-10-23T03:37:04.023Z"
   },
   {
    "duration": 3055,
    "start_time": "2024-10-24T01:54:45.573Z"
   },
   {
    "duration": 687,
    "start_time": "2024-10-24T01:54:48.631Z"
   },
   {
    "duration": 29,
    "start_time": "2024-10-24T01:54:49.321Z"
   },
   {
    "duration": 796,
    "start_time": "2024-10-24T01:54:49.352Z"
   },
   {
    "duration": 22,
    "start_time": "2024-10-24T01:54:50.149Z"
   },
   {
    "duration": 5,
    "start_time": "2024-10-24T01:54:50.173Z"
   },
   {
    "duration": 4633,
    "start_time": "2024-10-24T01:54:50.181Z"
   },
   {
    "duration": 136,
    "start_time": "2024-10-24T01:54:54.815Z"
   },
   {
    "duration": 1436,
    "start_time": "2024-10-24T01:54:54.952Z"
   },
   {
    "duration": 1559,
    "start_time": "2024-10-24T01:54:56.390Z"
   },
   {
    "duration": 5,
    "start_time": "2024-10-24T01:54:57.951Z"
   },
   {
    "duration": 59,
    "start_time": "2024-10-24T01:54:57.957Z"
   },
   {
    "duration": 62507,
    "start_time": "2024-10-24T01:54:58.018Z"
   },
   {
    "duration": 10,
    "start_time": "2024-10-24T01:56:00.531Z"
   }
  ],
  "kernelspec": {
   "display_name": "Python 3 (ipykernel)",
   "language": "python",
   "name": "python3"
  },
  "language_info": {
   "codemirror_mode": {
    "name": "ipython",
    "version": 3
   },
   "file_extension": ".py",
   "mimetype": "text/x-python",
   "name": "python",
   "nbconvert_exporter": "python",
   "pygments_lexer": "ipython3",
   "version": "3.9.19"
  },
  "toc": {
   "base_numbering": 1,
   "nav_menu": {},
   "number_sections": true,
   "sideBar": true,
   "skip_h1_title": true,
   "title_cell": "Table of Contents",
   "title_sidebar": "Contents",
   "toc_cell": false,
   "toc_position": {},
   "toc_section_display": true,
   "toc_window_display": false
  },
  "vscode": {
   "interpreter": {
    "hash": "ac629f305345b17df6668bc9b17021b4f12075c260532782c34ed55a489bc20f"
   }
  }
 },
 "nbformat": 4,
 "nbformat_minor": 4
}
